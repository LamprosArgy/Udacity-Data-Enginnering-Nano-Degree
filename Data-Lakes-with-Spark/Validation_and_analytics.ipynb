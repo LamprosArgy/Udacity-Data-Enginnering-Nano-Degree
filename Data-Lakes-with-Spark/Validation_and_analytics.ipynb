{
 "cells": [
  {
   "cell_type": "code",
   "execution_count": null,
   "metadata": {},
   "outputs": [],
   "source": []
  },
  {
   "cell_type": "code",
   "execution_count": 5,
   "metadata": {},
   "outputs": [
    {
     "data": {
      "application/vnd.jupyter.widget-view+json": {
       "model_id": "21294bfcfe794b678dceaad031a9c29d",
       "version_major": 2,
       "version_minor": 0
      },
      "text/plain": [
       "VBox()"
      ]
     },
     "metadata": {},
     "output_type": "display_data"
    },
    {
     "data": {
      "application/vnd.jupyter.widget-view+json": {
       "model_id": "",
       "version_major": 2,
       "version_minor": 0
      },
      "text/plain": [
       "FloatProgress(value=0.0, bar_style='info', description='Progress:', layout=Layout(height='25px', width='50%'),…"
      ]
     },
     "metadata": {},
     "output_type": "display_data"
    },
    {
     "name": "stdout",
     "output_type": "stream",
     "text": [
      "root\n",
      " |-- song_id: string (nullable = true)\n",
      " |-- title: string (nullable = true)\n",
      " |-- duration: double (nullable = true)\n",
      " |-- year: integer (nullable = true)\n",
      " |-- artist_id: string (nullable = true)\n",
      "\n",
      "+------------------+--------------------+---------+----+------------------+\n",
      "|           song_id|               title| duration|year|         artist_id|\n",
      "+------------------+--------------------+---------+----+------------------+\n",
      "|SOROAMT12A8C13C6D0|Me gustan mas los...|101.85098|2008|ARWUDTF1187B9AA096|\n",
      "|SOQEBML12A8C136AA4|Werther (1997 Dig...| 55.40526|   0|AR5R7791187FB3A8C3|\n",
      "|SOIEUCF12A6D4F9889|Symphony in B fla...|398.34077|   0|ARBB8QH1187FB54138|\n",
      "|SOYQLGB12A8C13B78E|The Donegal Expre...|226.48118|   0|AR9UC071187B9B76FD|\n",
      "|SOVVCEK12A6D4F6373|Everything You Al...|165.98159|   0|ARRL7WS1187FB576F1|\n",
      "+------------------+--------------------+---------+----+------------------+\n",
      "only showing top 5 rows"
     ]
    }
   ],
   "source": [
    "df_songs = spark.read.parquet(\"s3a://labros.spark.etl.bucket/Parquet_files/songs/songs.parquet\")\n",
    "df_songs.printSchema()\n",
    "df_songs.show(5)"
   ]
  },
  {
   "cell_type": "code",
   "execution_count": 14,
   "metadata": {},
   "outputs": [
    {
     "data": {
      "application/vnd.jupyter.widget-view+json": {
       "model_id": "bf5ea72f007b4533be87c07600edfa2f",
       "version_major": 2,
       "version_minor": 0
      },
      "text/plain": [
       "VBox()"
      ]
     },
     "metadata": {},
     "output_type": "display_data"
    },
    {
     "data": {
      "application/vnd.jupyter.widget-view+json": {
       "model_id": "",
       "version_major": 2,
       "version_minor": 0
      },
      "text/plain": [
       "FloatProgress(value=0.0, bar_style='info', description='Progress:', layout=Layout(height='25px', width='50%'),…"
      ]
     },
     "metadata": {},
     "output_type": "display_data"
    },
    {
     "name": "stdout",
     "output_type": "stream",
     "text": [
      "+------------------+--------------------+---------+----+------------------+\n",
      "|           song_id|               title| duration|year|         artist_id|\n",
      "+------------------+--------------------+---------+----+------------------+\n",
      "|SOCMUUZ12A6310E299|I Wouldn't Normal...|179.82649|1994|ARA60941187B9AD4A3|\n",
      "|SOKEJTW12A6D4F8D66|Don't Tell (Expli...|287.08526|1999|ARZ5H0P1187B98A1DD|\n",
      "|SOEQHUU12A6D4F71E3|Nothin' But A Goo...| 222.9024|1996|ARRR9QU1187B9AE226|\n",
      "|SOBOHGW12AB018B371|all you need is d...|108.40771|1999|AR7WYBF1187FB534CD|\n",
      "|SOFDRYM12AB017C0C1|Our Band Is Wicke...| 32.93995|1994|ARL14X91187FB4CF14|\n",
      "|SOFZUEL12A6D4FBBCD|In Between (Chase...|186.98404|1999|AR1C2361187B98E3C2|\n",
      "|SOAKCYS12AB01852C7|Sedona Suite (Sun...|743.36608|1992|AR7CCS31187B98C531|\n",
      "|SOWXSQT12A6D4FC02E|T-Ball and Indian...|482.21995|1998|ARHN74X1187B98D79F|\n",
      "|SOTYRDJ12A6D4F8DF2|Du willst mich kü...|154.20036|1999|AR3U4FK1187B9B225A|\n",
      "|SOJSYXR12AB017C2AD|At This Point In ...| 308.6624|1995|ARAO91X1187B98CCA4|\n",
      "+------------------+--------------------+---------+----+------------------+\n",
      "only showing top 10 rows"
     ]
    }
   ],
   "source": [
    "df_songs.filter((df_songs[\"year\"]<2000) & (df_songs[\"year\"]>1990) ).show(10)"
   ]
  },
  {
   "cell_type": "code",
   "execution_count": 6,
   "metadata": {},
   "outputs": [
    {
     "data": {
      "application/vnd.jupyter.widget-view+json": {
       "model_id": "ea99e9e97e2941bdab4ae9820a170359",
       "version_major": 2,
       "version_minor": 0
      },
      "text/plain": [
       "VBox()"
      ]
     },
     "metadata": {},
     "output_type": "display_data"
    },
    {
     "data": {
      "application/vnd.jupyter.widget-view+json": {
       "model_id": "",
       "version_major": 2,
       "version_minor": 0
      },
      "text/plain": [
       "FloatProgress(value=0.0, bar_style='info', description='Progress:', layout=Layout(height='25px', width='50%'),…"
      ]
     },
     "metadata": {},
     "output_type": "display_data"
    },
    {
     "name": "stdout",
     "output_type": "stream",
     "text": [
      "root\n",
      " |-- artist_id: string (nullable = true)\n",
      " |-- artist: string (nullable = true)\n",
      " |-- location: string (nullable = true)\n",
      " |-- latitude: string (nullable = true)\n",
      " |-- longitude: string (nullable = true)\n",
      "\n",
      "+------------------+--------------------+--------------------+--------+----------+\n",
      "|         artist_id|              artist|            location|latitude| longitude|\n",
      "+------------------+--------------------+--------------------+--------+----------+\n",
      "|AR0D7K21187B9AD14E|        Oingo Boingo|                    |    null|      null|\n",
      "|AR1C2IX1187B99BF74|     Broken Spindles|                    |    null|      null|\n",
      "|AR1E4V11187B99F400|            Telecast|     California - LA|34.05349|-118.24532|\n",
      "|AR1L2NA119B86684B4|Dr. Hook And The ...|Union City, New J...|40.77387| -74.02469|\n",
      "|AR1N3PB1187B9B25C1|     Andres Calamaro|                    |    null|      null|\n",
      "+------------------+--------------------+--------------------+--------+----------+\n",
      "only showing top 5 rows"
     ]
    }
   ],
   "source": [
    "df_artists = spark.read.parquet(\"s3a://labros.spark.etl.bucket/Parquet_files/artists/artists.parquet\")\n",
    "df_artists.printSchema()\n",
    "df_artists.show(5)"
   ]
  },
  {
   "cell_type": "code",
   "execution_count": 10,
   "metadata": {},
   "outputs": [
    {
     "data": {
      "application/vnd.jupyter.widget-view+json": {
       "model_id": "d8191a1ab5d74bbcb0cf369cb9c04d79",
       "version_major": 2,
       "version_minor": 0
      },
      "text/plain": [
       "VBox()"
      ]
     },
     "metadata": {},
     "output_type": "display_data"
    },
    {
     "data": {
      "application/vnd.jupyter.widget-view+json": {
       "model_id": "",
       "version_major": 2,
       "version_minor": 0
      },
      "text/plain": [
       "FloatProgress(value=0.0, bar_style='info', description='Progress:', layout=Layout(height='25px', width='50%'),…"
      ]
     },
     "metadata": {},
     "output_type": "display_data"
    },
    {
     "name": "stdout",
     "output_type": "stream",
     "text": [
      "+--------------------+-----+\n",
      "|            location|count|\n",
      "+--------------------+-----+\n",
      "|     Gainesville, FL|    5|\n",
      "|Perth, Australia/...|    1|\n",
      "|  Caracas, Venezuela|    2|\n",
      "|                Utah|    4|\n",
      "|         Brooklyn NY|   10|\n",
      "|North Philadelphi...|    1|\n",
      "| Brisbane, Australia|    1|\n",
      "|Buff Bay, Portlan...|    1|\n",
      "|East Vancouver, B...|    1|\n",
      "|              Hawaii|    2|\n",
      "+--------------------+-----+\n",
      "only showing top 10 rows"
     ]
    }
   ],
   "source": [
    "df_artists.groupBy(\"location\")\\\n",
    " .count() \\\n",
    " .show(10) "
   ]
  },
  {
   "cell_type": "code",
   "execution_count": 7,
   "metadata": {},
   "outputs": [
    {
     "data": {
      "application/vnd.jupyter.widget-view+json": {
       "model_id": "f912874096344e558ae2a8ff28756ea2",
       "version_major": 2,
       "version_minor": 0
      },
      "text/plain": [
       "VBox()"
      ]
     },
     "metadata": {},
     "output_type": "display_data"
    },
    {
     "data": {
      "application/vnd.jupyter.widget-view+json": {
       "model_id": "",
       "version_major": 2,
       "version_minor": 0
      },
      "text/plain": [
       "FloatProgress(value=0.0, bar_style='info', description='Progress:', layout=Layout(height='25px', width='50%'),…"
      ]
     },
     "metadata": {},
     "output_type": "display_data"
    },
    {
     "name": "stdout",
     "output_type": "stream",
     "text": [
      "root\n",
      " |-- start_time: timestamp (nullable = true)\n",
      " |-- hour: integer (nullable = true)\n",
      " |-- day: integer (nullable = true)\n",
      " |-- week: integer (nullable = true)\n",
      " |-- year: integer (nullable = true)\n",
      " |-- month: integer (nullable = true)\n",
      "\n",
      "+--------------------+----+---+----+----+-----+\n",
      "|          start_time|hour|day|week|year|month|\n",
      "+--------------------+----+---+----+----+-----+\n",
      "|2018-11-15 16:36:...|  16| 15|  46|2018|   11|\n",
      "|2018-11-15 19:02:...|  19| 15|  46|2018|   11|\n",
      "|2018-11-21 15:26:...|  15| 21|  47|2018|   11|\n",
      "|2018-11-21 17:55:...|  17| 21|  47|2018|   11|\n",
      "|2018-11-21 18:49:...|  18| 21|  47|2018|   11|\n",
      "+--------------------+----+---+----+----+-----+\n",
      "only showing top 5 rows"
     ]
    }
   ],
   "source": [
    "df_time = spark.read.parquet(\"s3a://labros.spark.etl.bucket/Parquet_files/time/time.parquet\")\n",
    "df_time.printSchema()\n",
    "df_time.show(5)"
   ]
  },
  {
   "cell_type": "code",
   "execution_count": 15,
   "metadata": {},
   "outputs": [
    {
     "data": {
      "application/vnd.jupyter.widget-view+json": {
       "model_id": "bbf24c03e7084a2bb2ba1f2fcc62efe6",
       "version_major": 2,
       "version_minor": 0
      },
      "text/plain": [
       "VBox()"
      ]
     },
     "metadata": {},
     "output_type": "display_data"
    },
    {
     "data": {
      "application/vnd.jupyter.widget-view+json": {
       "model_id": "",
       "version_major": 2,
       "version_minor": 0
      },
      "text/plain": [
       "FloatProgress(value=0.0, bar_style='info', description='Progress:', layout=Layout(height='25px', width='50%'),…"
      ]
     },
     "metadata": {},
     "output_type": "display_data"
    },
    {
     "name": "stdout",
     "output_type": "stream",
     "text": [
      "root\n",
      " |-- userId: string (nullable = true)\n",
      " |-- firstName: string (nullable = true)\n",
      " |-- lastName: string (nullable = true)\n",
      " |-- gender: string (nullable = true)\n",
      " |-- level: string (nullable = true)\n",
      "\n",
      "+------+---------+---------+------+-----+\n",
      "|userId|firstName| lastName|gender|level|\n",
      "+------+---------+---------+------+-----+\n",
      "|    88| Mohammad|Rodriguez|     M| free|\n",
      "|    75|   Joseph|Gutierrez|     M| free|\n",
      "|    53|  Celeste| Williams|     F| free|\n",
      "|    60|    Devin|   Larson|     M| free|\n",
      "|    68|   Jordan|Rodriguez|     F| free|\n",
      "+------+---------+---------+------+-----+\n",
      "only showing top 5 rows"
     ]
    }
   ],
   "source": [
    "df_users = spark.read.parquet(\"s3a://labros.spark.etl.bucket/Parquet_files/users/users.parquet\")\n",
    "df_users.printSchema()\n",
    "df_users.show(5)"
   ]
  },
  {
   "cell_type": "code",
   "execution_count": 21,
   "metadata": {},
   "outputs": [
    {
     "data": {
      "application/vnd.jupyter.widget-view+json": {
       "model_id": "3df8f7be0f2340fb96962de0412c1f50",
       "version_major": 2,
       "version_minor": 0
      },
      "text/plain": [
       "VBox()"
      ]
     },
     "metadata": {},
     "output_type": "display_data"
    },
    {
     "data": {
      "application/vnd.jupyter.widget-view+json": {
       "model_id": "",
       "version_major": 2,
       "version_minor": 0
      },
      "text/plain": [
       "FloatProgress(value=0.0, bar_style='info', description='Progress:', layout=Layout(height='25px', width='50%'),…"
      ]
     },
     "metadata": {},
     "output_type": "display_data"
    },
    {
     "name": "stdout",
     "output_type": "stream",
     "text": [
      "the percentage of paid users is:21.875%"
     ]
    }
   ],
   "source": [
    "from pyspark.sql.functions import round\n",
    "\n",
    "#Calculating the percentage of paid accounts\n",
    "paid_vol = df_users.filter(df_users[\"level\"]==\"paid\").count()\n",
    "users_vol = df_users.count()\n",
    "perc = (paid_vol/users_vol)*100\n",
    "print(\"the percentage of paid users is:{}%\".format(perc))"
   ]
  },
  {
   "cell_type": "code",
   "execution_count": 22,
   "metadata": {},
   "outputs": [
    {
     "data": {
      "application/vnd.jupyter.widget-view+json": {
       "model_id": "e1ffacd5de404712994736b052b4c408",
       "version_major": 2,
       "version_minor": 0
      },
      "text/plain": [
       "VBox()"
      ]
     },
     "metadata": {},
     "output_type": "display_data"
    },
    {
     "data": {
      "application/vnd.jupyter.widget-view+json": {
       "model_id": "",
       "version_major": 2,
       "version_minor": 0
      },
      "text/plain": [
       "FloatProgress(value=0.0, bar_style='info', description='Progress:', layout=Layout(height='25px', width='50%'),…"
      ]
     },
     "metadata": {},
     "output_type": "display_data"
    },
    {
     "name": "stdout",
     "output_type": "stream",
     "text": [
      "root\n",
      " |-- start_time: timestamp (nullable = true)\n",
      " |-- userId: string (nullable = true)\n",
      " |-- level: string (nullable = true)\n",
      " |-- song_id: string (nullable = true)\n",
      " |-- artist_id: string (nullable = true)\n",
      " |-- sessionId: long (nullable = true)\n",
      " |-- location: string (nullable = true)\n",
      " |-- userAgent: string (nullable = true)\n",
      " |-- year: integer (nullable = true)\n",
      " |-- month: integer (nullable = true)\n",
      "\n",
      "+--------------------+------+-----+------------------+------------------+---------+--------------------+--------------------+----+-----+\n",
      "|          start_time|userId|level|           song_id|         artist_id|sessionId|            location|           userAgent|year|month|\n",
      "+--------------------+------+-----+------------------+------------------+---------+--------------------+--------------------+----+-----+\n",
      "|2018-11-25 16:14:...|    49| paid|SOBONKR12A58A7A7E0|AR5E44Z1187B9A1D74|      923|San Francisco-Oak...|Mozilla/5.0 (Wind...|2018|   11|\n",
      "|2018-11-22 01:59:...|    15| paid|SOBONKR12A58A7A7E0|AR5E44Z1187B9A1D74|      818|Chicago-Napervill...|\"Mozilla/5.0 (X11...|2018|   11|\n",
      "|2018-11-02 18:02:...|    50| free|SOBONKR12A58A7A7E0|AR5E44Z1187B9A1D74|      207|New Haven-Milford...|\"Mozilla/5.0 (Win...|2018|   11|\n",
      "|2018-11-02 16:35:...|    50| free|SOBONKR12A58A7A7E0|AR5E44Z1187B9A1D74|      156|New Haven-Milford...|\"Mozilla/5.0 (Win...|2018|   11|\n",
      "|2018-11-04 15:39:...|    78| free|SOBONKR12A58A7A7E0|AR5E44Z1187B9A1D74|      176|Indianapolis-Carm...|Mozilla/5.0 (Wind...|2018|   11|\n",
      "+--------------------+------+-----+------------------+------------------+---------+--------------------+--------------------+----+-----+\n",
      "only showing top 5 rows"
     ]
    }
   ],
   "source": [
    "df_songplays = spark.read.parquet(\"s3a://labros.spark.etl.bucket/Parquet_files/songplays/songplays.parquet\")\n",
    "df_songplays.printSchema()\n",
    "df_songplays.show(5)"
   ]
  },
  {
   "cell_type": "code",
   "execution_count": null,
   "metadata": {},
   "outputs": [],
   "source": []
  }
 ],
 "metadata": {
  "kernelspec": {
   "display_name": "PySpark",
   "language": "",
   "name": "pysparkkernel"
  },
  "language_info": {
   "codemirror_mode": {
    "name": "python",
    "version": 2
   },
   "mimetype": "text/x-python",
   "name": "pyspark",
   "pygments_lexer": "python2"
  }
 },
 "nbformat": 4,
 "nbformat_minor": 4
}
